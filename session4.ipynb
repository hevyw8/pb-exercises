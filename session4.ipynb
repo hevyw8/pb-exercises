{
 "cells": [
  {
   "cell_type": "code",
   "execution_count": 1,
   "metadata": {},
   "outputs": [],
   "source": [
    "# import everything and define a test runner function\n",
    "from importlib import reload\n",
    "from helper import run_test\n",
    "\n",
    "import ecc\n",
    "import helper\n",
    "import script\n",
    "import tx"
   ]
  },
  {
   "cell_type": "markdown",
   "metadata": {},
   "source": [
    "### Exercise 1\n",
    "\n",
    "#### 1.1. Determine a ScriptSig that will satisfy this scriptPubKey:\n",
    "```\n",
    "767695935687\n",
    "```\n",
    "#### Hint: use the Script.parse method"
   ]
  },
  {
   "cell_type": "code",
   "execution_count": 2,
   "metadata": {},
   "outputs": [
    {
     "name": "stdout",
     "output_type": "stream",
     "text": [
      "OP_DUP OP_DUP OP_MUL OP_ADD OP_6 OP_EQUAL \n"
     ]
    }
   ],
   "source": [
    "# Exercise 1.1\n",
    "\n",
    "from binascii import unhexlify\n",
    "from script import Script\n",
    "\n",
    "hex_script = '767695935687'\n",
    "\n",
    "# unhexlify the script\n",
    "# parse the script\n",
    "s = Script.parse(unhexlify(hex_script))\n",
    "print(s)"
   ]
  },
  {
   "cell_type": "markdown",
   "metadata": {},
   "source": [
    "### Exercise 2\n",
    "\n",
    "#### 2.1. Determine what this scriptPubKey is doing:\n",
    "```\n",
    "6e879169a77ca787\n",
    "```\n",
    "\n",
    "#### Hint: Use the Script.parse method and look up what various OP codes do here: \n",
    "#### https://en.bitcoin.it/wiki/Script"
   ]
  },
  {
   "cell_type": "code",
   "execution_count": 3,
   "metadata": {},
   "outputs": [
    {
     "name": "stdout",
     "output_type": "stream",
     "text": [
      "OP_2DUP OP_EQUAL OP_NOT OP_VERIFY OP_SHA1 OP_SWAP OP_SHA1 OP_EQUAL \n"
     ]
    }
   ],
   "source": [
    "# Exercise 2.1\n",
    "\n",
    "from binascii import unhexlify\n",
    "from script import Script\n",
    "\n",
    "hex_script = '6e879169a77ca787'\n",
    "\n",
    "# unhexlify the script\n",
    "# parse the script\n",
    "s = Script.parse(unhexlify(hex_script))\n",
    "print(s)"
   ]
  },
  {
   "cell_type": "markdown",
   "metadata": {},
   "source": [
    "### Exercise 3\n",
    "\n",
    "#### 3.1. Make [this test](/edit/session4/tx.py) pass\n",
    "```\n",
    "tx.py:TxTest:test_serialize\n",
    "```"
   ]
  },
  {
   "cell_type": "code",
   "execution_count": 4,
   "metadata": {},
   "outputs": [
    {
     "name": "stderr",
     "output_type": "stream",
     "text": [
      ".\n",
      "----------------------------------------------------------------------\n",
      "Ran 1 test in 0.004s\n",
      "\n",
      "OK\n"
     ]
    }
   ],
   "source": [
    "# Exercise 3.1\n",
    "\n",
    "reload(tx)\n",
    "run_test(tx.TxTest('test_serialize'))"
   ]
  },
  {
   "cell_type": "code",
   "execution_count": 5,
   "metadata": {},
   "outputs": [
    {
     "name": "stdout",
     "output_type": "stream",
     "text": [
      "{'transaction': {'outputs': [{'script': 'dup hash160 [a802fc56c704ce87c42d7c92eb75e7896bdc41ae] equalverify checksig', 'address_hash': 'a802fc56c704ce87c42d7c92eb75e7896bdc41ae', 'value': '42505594'}, {'script': 'dup hash160 [e82bd75c9c662c3f5700b33fec8a676b6e9391d5] equalverify checksig', 'address_hash': 'e82bd75c9c662c3f5700b33fec8a676b6e9391d5', 'value': '6181285'}], 'lock_time': '0', 'hash': 'd1c789a9c60383bf715f3f6ad9d14b91fe55f3deb369fe5d9280cb1a01793f81', 'inputs': [{'script': '[304402207e6009ad86367fc4b166bc80bf10cf1e78832a01e9bb491c6d126ee8aa436cb502200e29e6dd7708ed419cd5ba798981c960f0cc811b24e894bff072fea8074a7c4c01] [03bc9e7397f739c70f424aa7dcce9d2e521eb228b0ccba619cd6a0b9691da796a1]', 'address_hash': '08907afd35beea3d5594f2154faef8be78b78a5e', 'previous_output': {'index': '0', 'hash': 'cbf43825e0b92ba3bfabaec509e14ee9132df1e92ffdfc6636f848fbf0537c13'}, 'sequence': '4294967295'}, {'script': '[3045022100f4bfdb0b3185c778cf28acbaf115376352f091ad9e27225e6f3f350b847579c702200d69177773cd2bb993a816a5ae08e77a6270cf46b33f8f79d45b0cd1244d9c4c01] [031c0b0b95b522805ea9d0225b1946ecaeb1727c0b36c7e34165769fd8ed860bf5]', 'address_hash': '5a990a8f1810cce3097957c4d2f521dc69d26400', 'previous_output': {'index': '1', 'hash': '590133d8ac653229dfd8d72d2a81564502051f21554f919ae59ac27be7727451'}, 'sequence': '4294967295'}], 'version': '1'}}\n",
      "b'76a914a802fc56c704ce87c42d7c92eb75e7896bdc41ae88ac'\n"
     ]
    }
   ],
   "source": [
    "# fetch tx example\n",
    "from binascii import hexlify, unhexlify\n",
    "\n",
    "from helper import fetch_tx, fetch_script_pubkey\n",
    "\n",
    "tx_hash = unhexlify('d1c789a9c60383bf715f3f6ad9d14b91fe55f3deb369fe5d9280cb1a01793f81') \n",
    "print(fetch_tx(tx_hash))\n",
    "print(hexlify(fetch_script_pubkey(tx_hash, 0)))"
   ]
  },
  {
   "cell_type": "markdown",
   "metadata": {},
   "source": [
    "### Exercise 4\n",
    "\n",
    "\n",
    "#### 4.1. What is the value and scriptPubKey of the 0th output of this transaction?\n",
    "```\n",
    "d1c789a9c60383bf715f3f6ad9d14b91fe55f3deb369fe5d9280cb1a01793f81\n",
    "```\n",
    "\n",
    "#### 4.2. Make [these tests](/edit/session4/tx.py) pass\n",
    "```\n",
    "tx.py:TxTest:test_input_value\n",
    "tx.py:TxTest:test_input_pubkey\n",
    "```\n",
    "\n",
    "#### Bonus:\n",
    "#### Cache the requests so that you don't hit blockcypher.com multiple times for the same transaction output."
   ]
  },
  {
   "cell_type": "code",
   "execution_count": 6,
   "metadata": {},
   "outputs": [
    {
     "name": "stdout",
     "output_type": "stream",
     "text": [
      "42505594\n",
      "b'76a914a802fc56c704ce87c42d7c92eb75e7896bdc41ae88ac'\n"
     ]
    }
   ],
   "source": [
    "# Exercise 4.1\n",
    "from binascii import hexlify, unhexlify\n",
    "\n",
    "from helper import fetch_tx, fetch_script_pubkey\n",
    "\n",
    "tx_hash = unhexlify('d1c789a9c60383bf715f3f6ad9d14b91fe55f3deb369fe5d9280cb1a01793f81')\n",
    "# fetch_tx on the unhexlified tx_hash\n",
    "tx_data = fetch_tx(tx_hash)\n",
    "# grab the transaction key then the output key\n",
    "# then get the 0th output and get the value and script\n",
    "print(tx_data['transaction']['outputs'][0]['value'])\n",
    "print(hexlify(fetch_script_pubkey(tx_hash, 0)))"
   ]
  },
  {
   "cell_type": "code",
   "execution_count": 7,
   "metadata": {},
   "outputs": [
    {
     "name": "stderr",
     "output_type": "stream",
     "text": [
      ".\n",
      "----------------------------------------------------------------------\n",
      "Ran 1 test in 0.329s\n",
      "\n",
      "OK\n",
      ".\n",
      "----------------------------------------------------------------------\n",
      "Ran 1 test in 0.670s\n",
      "\n",
      "OK\n"
     ]
    }
   ],
   "source": [
    "# Exercise 4.2\n",
    "\n",
    "reload(tx)\n",
    "run_test(tx.TxTest('test_input_value'))\n",
    "run_test(tx.TxTest('test_input_pubkey'))"
   ]
  },
  {
   "cell_type": "markdown",
   "metadata": {},
   "source": [
    "### Exercise 5\n",
    "\n",
    "#### 5.1. How much is the transaction fee of this transaction?\n",
    "```\n",
    "010000000456919960ac691763688d3d3bcea9ad6ecaf875df5339e148a1fc61c6ed7a069e010000006a47304402204585bcdef85e6b1c6af5c2669d4830ff86e42dd205c0e089bc2a821657e951c002201024a10366077f87d6bce1f7100ad8cfa8a064b39d4e8fe4ea13a7b71aa8180f012102f0da57e85eec2934a82a585ea337ce2f4998b50ae699dd79f5880e253dafafb7feffffffeb8f51f4038dc17e6313cf831d4f02281c2a468bde0fafd37f1bf882729e7fd3000000006a47304402207899531a52d59a6de200179928ca900254a36b8dff8bb75f5f5d71b1cdc26125022008b422690b8461cb52c3cc30330b23d574351872b7c361e9aae3649071c1a7160121035d5c93d9ac96881f19ba1f686f15f009ded7c62efe85a872e6a19b43c15a2937feffffff567bf40595119d1bb8a3037c356efd56170b64cbcc160fb028fa10704b45d775000000006a47304402204c7c7818424c7f7911da6cddc59655a70af1cb5eaf17c69dadbfc74ffa0b662f02207599e08bc8023693ad4e9527dc42c34210f7a7d1d1ddfc8492b654a11e7620a0012102158b46fbdff65d0172b7989aec8850aa0dae49abfb84c81ae6e5b251a58ace5cfeffffffd63a5e6c16e620f86f375925b21cabaf736c779f88fd04dcad51d26690f7f345010000006a47304402200633ea0d3314bea0d95b3cd8dadb2ef79ea8331ffe1e61f762c0f6daea0fabde022029f23b3e9c30f080446150b23852028751635dcee2be669c2a1686a4b5edf304012103ffd6f4a67e94aba353a00882e563ff2722eb4cff0ad6006e86ee20dfe7520d55feffffff0251430f00000000001976a914ab0c0b2e98b1ab6dbf67d4750b0a56244948a87988ac005a6202000000001976a9143c82d7df364eb6c75be8c80df2b3eda8db57397088ac46430600\n",
    "```\n",
    "\n",
    "#### 5.2. Make [this test](/edit/session4/tx.py) pass\n",
    "```\n",
    "tx.py:TxTest:test_fee\n",
    "```"
   ]
  },
  {
   "cell_type": "code",
   "execution_count": 8,
   "metadata": {},
   "outputs": [
    {
     "name": "stdout",
     "output_type": "stream",
     "text": [
      "140500\n"
     ]
    }
   ],
   "source": [
    "# Exercise 5.1\n",
    "\n",
    "from binascii import unhexlify\n",
    "from io import BytesIO\n",
    "from tx import Tx\n",
    "\n",
    "hex_tx = '010000000456919960ac691763688d3d3bcea9ad6ecaf875df5339e148a1fc61c6ed7a069e010000006a47304402204585bcdef85e6b1c6af5c2669d4830ff86e42dd205c0e089bc2a821657e951c002201024a10366077f87d6bce1f7100ad8cfa8a064b39d4e8fe4ea13a7b71aa8180f012102f0da57e85eec2934a82a585ea337ce2f4998b50ae699dd79f5880e253dafafb7feffffffeb8f51f4038dc17e6313cf831d4f02281c2a468bde0fafd37f1bf882729e7fd3000000006a47304402207899531a52d59a6de200179928ca900254a36b8dff8bb75f5f5d71b1cdc26125022008b422690b8461cb52c3cc30330b23d574351872b7c361e9aae3649071c1a7160121035d5c93d9ac96881f19ba1f686f15f009ded7c62efe85a872e6a19b43c15a2937feffffff567bf40595119d1bb8a3037c356efd56170b64cbcc160fb028fa10704b45d775000000006a47304402204c7c7818424c7f7911da6cddc59655a70af1cb5eaf17c69dadbfc74ffa0b662f02207599e08bc8023693ad4e9527dc42c34210f7a7d1d1ddfc8492b654a11e7620a0012102158b46fbdff65d0172b7989aec8850aa0dae49abfb84c81ae6e5b251a58ace5cfeffffffd63a5e6c16e620f86f375925b21cabaf736c779f88fd04dcad51d26690f7f345010000006a47304402200633ea0d3314bea0d95b3cd8dadb2ef79ea8331ffe1e61f762c0f6daea0fabde022029f23b3e9c30f080446150b23852028751635dcee2be669c2a1686a4b5edf304012103ffd6f4a67e94aba353a00882e563ff2722eb4cff0ad6006e86ee20dfe7520d55feffffff0251430f00000000001976a914ab0c0b2e98b1ab6dbf67d4750b0a56244948a87988ac005a6202000000001976a9143c82d7df364eb6c75be8c80df2b3eda8db57397088ac46430600'\n",
    "\n",
    "# unhexlify the tx, make stream\n",
    "stream = BytesIO(unhexlify(hex_tx))\n",
    "# parse the tx\n",
    "t = Tx.parse(stream)\n",
    "# initialize input sum\n",
    "input_sum = 0\n",
    "# iterate over all inputs (t.tx_ins)\n",
    "for tx_in in t.tx_ins:\n",
    "    # get the values from the TxIn.value method you wrote in 4.2\n",
    "    value = tx_in.value()\n",
    "    # add to input sum\n",
    "    input_sum += value\n",
    "# initialize output sum\n",
    "output_sum = 0\n",
    "# iterate over all outputs (t.tx_outs)\n",
    "for tx_out in t.tx_outs:\n",
    "    # get the amounts from the TxOut.amount property\n",
    "    value = tx_out.amount\n",
    "    # add to output sum\n",
    "    output_sum += value\n",
    "# fee is input sum - output sum\n",
    "fee = input_sum - output_sum\n",
    "print(fee)"
   ]
  },
  {
   "cell_type": "code",
   "execution_count": 9,
   "metadata": {},
   "outputs": [
    {
     "name": "stderr",
     "output_type": "stream",
     "text": [
      ".\n",
      "----------------------------------------------------------------------\n",
      "Ran 1 test in 1.620s\n",
      "\n",
      "OK\n"
     ]
    }
   ],
   "source": [
    "# Exercise 5.2\n",
    "\n",
    "reload(tx)\n",
    "run_test(tx.TxTest('test_fee'))"
   ]
  },
  {
   "cell_type": "code",
   "execution_count": 10,
   "metadata": {},
   "outputs": [
    {
     "name": "stdout",
     "output_type": "stream",
     "text": [
      "b'27e0c5994dec7824e56dec6b2fcb342eb7cdb0d0957c2fce9882f715e85d81a6'\n"
     ]
    }
   ],
   "source": [
    "# double_sha256 example to get z\n",
    "from binascii import hexlify, unhexlify\n",
    "\n",
    "from helper import double_sha256\n",
    "\n",
    "modified_tx = unhexlify('0100000001813f79011acb80925dfe69b3def355fe914bd1d96a3f5f71bf8303c6a989c7d1000000001976a914a802fc56c704ce87c42d7c92eb75e7896bdc41ae88acfeffffff02a135ef01000000001976a914bc3b654dca7e56b04dca18f2566cdaf02e8d9ada88ac99c39800000000001976a9141c4bc762dd5423e332166702cb75f40df79fea1288ac1943060001000000')\n",
    "h = double_sha256(modified_tx)\n",
    "z = int.from_bytes(h, 'big')\n",
    "print(hexlify(h))"
   ]
  },
  {
   "cell_type": "markdown",
   "metadata": {},
   "source": [
    "### Exercise 6\n",
    "\n",
    "#### 6.1. Make [this test](/edit/session4/tx.py) pass\n",
    "```\n",
    "tx.py:TxTest:test_hash_to_sign\n",
    "```"
   ]
  },
  {
   "cell_type": "code",
   "execution_count": 11,
   "metadata": {},
   "outputs": [
    {
     "name": "stderr",
     "output_type": "stream",
     "text": [
      ".\n",
      "----------------------------------------------------------------------\n",
      "Ran 1 test in 0.320s\n",
      "\n",
      "OK\n"
     ]
    }
   ],
   "source": [
    "# Exercise 6.1\n",
    "\n",
    "reload(tx)\n",
    "run_test(tx.TxTest('test_hash_to_sign'))"
   ]
  },
  {
   "cell_type": "code",
   "execution_count": 12,
   "metadata": {},
   "outputs": [
    {
     "data": {
      "text/plain": [
       "True"
      ]
     },
     "execution_count": 12,
     "metadata": {},
     "output_type": "execute_result"
    }
   ],
   "source": [
    "# Validation example\n",
    "\n",
    "from binascii import unhexlify\n",
    "from ecc import S256Point, Signature\n",
    "from io import BytesIO\n",
    "from tx import Tx\n",
    "\n",
    "stream = BytesIO(unhexlify('0100000001813f79011acb80925dfe69b3def355fe914bd1d96a3f5f71bf8303c6a989c7d1000000006b483045022100ed81ff192e75a3fd2304004dcadb746fa5e24c5031ccfcf21320b0277457c98f02207a986d955c6e0cb35d446a89d3f56100f4d7f67801c31967743a9c8e10615bed01210349fc4e631e3624a545de3f89f5d8684c7b8138bd94bdd531d2e213bf016b278afeffffff02a135ef01000000001976a914bc3b654dca7e56b04dca18f2566cdaf02e8d9ada88ac99c39800000000001976a9141c4bc762dd5423e332166702cb75f40df79fea1288ac19430600'))\n",
    "transaction = Tx.parse(stream)\n",
    "der, sighash = transaction.tx_ins[0].der_signature()\n",
    "signature = Signature.parse(der)\n",
    "sec = transaction.tx_ins[0].sec_pubkey()\n",
    "point = S256Point.parse(sec)\n",
    "# use z from step 4\n",
    "point.verify(z, signature)"
   ]
  },
  {
   "cell_type": "markdown",
   "metadata": {},
   "source": [
    "### Exercise 7\n",
    "\n",
    "#### 7.1. Validate this signature\n",
    "\n",
    "```\n",
    "sec = 0349fc4e631e3624a545de3f89f5d8684c7b8138bd94bdd531d2e213bf016b278a\n",
    "z = 27e0c5994dec7824e56dec6b2fcb342eb7cdb0d0957c2fce9882f715e85d81a6\n",
    "r = ed81ff192e75a3fd2304004dcadb746fa5e24c5031ccfcf21320b0277457c98f\n",
    "s = 7a986d955c6e0cb35d446a89d3f56100f4d7f67801c31967743a9c8e10615bed\n",
    "```"
   ]
  },
  {
   "cell_type": "code",
   "execution_count": 13,
   "metadata": {},
   "outputs": [
    {
     "data": {
      "text/plain": [
       "True"
      ]
     },
     "execution_count": 13,
     "metadata": {},
     "output_type": "execute_result"
    }
   ],
   "source": [
    "# Exercise 7.1\n",
    "\n",
    "from binascii import unhexlify\n",
    "from ecc import S256Point, Signature\n",
    "\n",
    "sec = unhexlify('0349fc4e631e3624a545de3f89f5d8684c7b8138bd94bdd531d2e213bf016b278a')\n",
    "z = 0x27e0c5994dec7824e56dec6b2fcb342eb7cdb0d0957c2fce9882f715e85d81a6\n",
    "r = 0xed81ff192e75a3fd2304004dcadb746fa5e24c5031ccfcf21320b0277457c98f\n",
    "s = 0x7a986d955c6e0cb35d446a89d3f56100f4d7f67801c31967743a9c8e10615bed\n",
    "\n",
    "# use S256Point.parse to get the public point\n",
    "point = S256Point.parse(sec)\n",
    "# create Signature object with r and s\n",
    "sig = Signature(r,s)\n",
    "# use S256Point.verify method\n",
    "point.verify(z, sig)"
   ]
  },
  {
   "cell_type": "markdown",
   "metadata": {},
   "source": [
    "### Exercise 8\n",
    "\n",
    "#### 8.1. Validate the signature for the first input in this transaction.\n",
    "```\n",
    "01000000012f5ab4d2666744a44864a63162060c2ae36ab0a2375b1c2b6b43077ed5dcbed6000000006a473044022034177d53fcb8e8cba62432c5f6cc3d11c16df1db0bce20b874cfc61128b529e1022040c2681a2845f5eb0c46adb89585604f7bf8397b82db3517afb63f8e3d609c990121035e8b10b675477614809f3dde7fd0e33fb898af6d86f51a65a54c838fddd417a5feffffff02c5872e00000000001976a91441b835c78fb1406305727d8925ff315d90f9bbc588acae2e1700000000001976a914c300e84d277c6c7bcf17190ebc4e7744609f8b0c88ac31470600\n",
    "```"
   ]
  },
  {
   "cell_type": "code",
   "execution_count": 14,
   "metadata": {},
   "outputs": [
    {
     "data": {
      "text/plain": [
       "True"
      ]
     },
     "execution_count": 14,
     "metadata": {},
     "output_type": "execute_result"
    }
   ],
   "source": [
    "# Exercise 8.1\n",
    "\n",
    "from binascii import unhexlify\n",
    "from io import BytesIO\n",
    "from ecc import S256Point, Signature\n",
    "from tx import Tx\n",
    "\n",
    "hex_tx = '01000000012f5ab4d2666744a44864a63162060c2ae36ab0a2375b1c2b6b43077ed5dcbed6000000006a473044022034177d53fcb8e8cba62432c5f6cc3d11c16df1db0bce20b874cfc61128b529e1022040c2681a2845f5eb0c46adb89585604f7bf8397b82db3517afb63f8e3d609c990121035e8b10b675477614809f3dde7fd0e33fb898af6d86f51a65a54c838fddd417a5feffffff02c5872e00000000001976a91441b835c78fb1406305727d8925ff315d90f9bbc588acae2e1700000000001976a914c300e84d277c6c7bcf17190ebc4e7744609f8b0c88ac31470600'\n",
    "stream = BytesIO(unhexlify(hex_tx))\n",
    "index = 0\n",
    "\n",
    "# parse the transaction using Tx.Parse\n",
    "t = Tx.parse(stream)\n",
    "# grab the input at index\n",
    "tx_in = t.tx_ins[index]\n",
    "# use the input's der_signature method to get the der signature and sighash\n",
    "der, sighash = tx_in.der_signature()\n",
    "# parse the signature using Signature.parse\n",
    "sig = Signature.parse(der)\n",
    "# use the input's sec_pubkey to get the sec pubkey\n",
    "sec = tx_in.sec_pubkey()\n",
    "# parse the sec pubkey using S256Point.parse\n",
    "point = S256Point.parse(sec)\n",
    "# use the hash_to_sign method on index and sighash to get z\n",
    "z = t.hash_to_sign(index, sighash)\n",
    "# use the pubkey to verify the signature (z, sig)\n",
    "point.verify(z, sig)"
   ]
  }
 ],
 "metadata": {
  "kernelspec": {
   "display_name": "Python 3",
   "language": "python",
   "name": "python3"
  },
  "language_info": {
   "codemirror_mode": {
    "name": "ipython",
    "version": 3
   },
   "file_extension": ".py",
   "mimetype": "text/x-python",
   "name": "python",
   "nbconvert_exporter": "python",
   "pygments_lexer": "ipython3",
   "version": "3.5.2"
  }
 },
 "nbformat": 4,
 "nbformat_minor": 2
}
